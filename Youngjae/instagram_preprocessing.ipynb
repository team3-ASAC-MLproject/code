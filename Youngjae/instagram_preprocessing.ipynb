{
 "cells": [
  {
   "cell_type": "markdown",
   "metadata": {},
   "source": [
    "패키지 로드"
   ]
  },
  {
   "cell_type": "code",
   "execution_count": 1,
   "metadata": {},
   "outputs": [],
   "source": [
    "import numpy as np\n",
    "import pandas as pd\n",
    "import time\n",
    "import re\n",
    "from datetime import datetime, timedelta"
   ]
  },
  {
   "cell_type": "markdown",
   "metadata": {},
   "source": [
    "데이터 로드"
   ]
  },
  {
   "cell_type": "code",
   "execution_count": null,
   "metadata": {},
   "outputs": [],
   "source": [
    "df = pd.read_csv(\"C:/study_data/project/insta/중간자료/totaldata.csv\", index_col=0)"
   ]
  },
  {
   "cell_type": "markdown",
   "metadata": {},
   "source": [
    "중복 댓글 제거"
   ]
  },
  {
   "cell_type": "code",
   "execution_count": null,
   "metadata": {},
   "outputs": [],
   "source": [
    "# 크롤링 과정에서 중복으로 가져온 댓글 제거 (댓글 89만개 -> 65만개)\n",
    "df = df.drop_duplicates(subset='reply', keep='first')"
   ]
  },
  {
   "cell_type": "code",
   "execution_count": null,
   "metadata": {},
   "outputs": [],
   "source": [
    "# 꼬인 인덱스 수정\n",
    "df.reset_index(inplace=True)\n",
    "df.drop('index', axis=1, inplace=True)"
   ]
  },
  {
   "cell_type": "markdown",
   "metadata": {},
   "source": [
    "광고글 라벨링"
   ]
  },
  {
   "cell_type": "code",
   "execution_count": null,
   "metadata": {},
   "outputs": [],
   "source": [
    "# 광고글인지 판단하는 함수\n",
    "def chk_adv(main_txt):\n",
    "    temp = 0\n",
    "    promo_word = ['광고', '협찬', '제품제공', 'AD', 'GIFTED', '제공', '제품협찬', '유료광고', '상업광고', '금전적']\n",
    "    for w in promo_word:\n",
    "        if w in main_txt:\n",
    "            temp = 1\n",
    "        if temp ==1:\n",
    "            break\n",
    "    return temp\n",
    "df['promotion'] = df['content_text'].apply(lambda x : chk_adv(str(x)))"
   ]
  },
  {
   "cell_type": "markdown",
   "metadata": {},
   "source": [
    "해시태그 추출"
   ]
  },
  {
   "cell_type": "code",
   "execution_count": null,
   "metadata": {},
   "outputs": [],
   "source": [
    "# 해시태그 단어 컬럼 추가 : #word\n",
    "hashtag_regex = \"#([0-9a-zA-Z가-힣]*)\"\n",
    "p = re.compile(hashtag_regex)\n",
    "df[\"#word\"] = df[\"content_text\"].apply(lambda x : p.findall(str(x)))"
   ]
  },
  {
   "cell_type": "markdown",
   "metadata": {},
   "source": [
    "### 게시글 및 댓글 전처리"
   ]
  },
  {
   "cell_type": "markdown",
   "metadata": {},
   "source": [
    "텍스트 전처리 함수"
   ]
  },
  {
   "cell_type": "code",
   "execution_count": null,
   "metadata": {},
   "outputs": [],
   "source": [
    "# 전처리 함수(글자, 영어, 숫자만 남기기)\n",
    "def text_preprocessor(s):\n",
    "    import re\n",
    "    \n",
    "    ## (1) [], (), {}, <> 괄호 제거\n",
    "    s = str(s).replace('(', ' ')\n",
    "    s = str(s).replace(')', ' ')\n",
    "    s = str(s).replace('[', ' ')\n",
    "    s = str(s).replace(']', ' ')\n",
    "    s = str(s).replace('<', ' ')\n",
    "    s = str(s).replace('>', ' ')\n",
    "    s = str(s).replace('{', ' ')\n",
    "    s = str(s).replace('}', ' ')\n",
    "\n",
    "    hashtag_regex = \"#([0-9a-zA-Z가-힣_.]*)\"\n",
    "    s = re.sub(pattern=hashtag_regex, repl='', string=s)\n",
    "    \n",
    "    call_regex = \"@([0-9a-zA-Z가-힣_.]*)\"\n",
    "    s = re.sub(pattern=call_regex, repl='', string=s)\n",
    "\n",
    "\n",
    "    ## (2) '...외', '...총' 제거하기\n",
    "    s = s.replace('...외', ' ')\n",
    "    s = s.replace('...총', ' ')\n",
    "    \n",
    "    ## (3) 특수문자 제거\n",
    "    pattern = r'[^a-zA-Z가-힣]'\n",
    "    s = re.sub(pattern=pattern, repl=' ', string=s)\n",
    "    \n",
    "    ## (4) 단위 제거: cm, km, etc.\n",
    "    units = ['mm', 'cm', 'km', 'ml', 'kg', 'g']\n",
    "    for unit in units:\n",
    "        s = s.lower() # 대문자를 소문자로 변환\n",
    "        s = s.replace(unit, '')\n",
    "        \n",
    "    # (5) 공백 지워서 한줄로 합치기\n",
    "    s = s.replace(' ', '')\n",
    "\n",
    "    return s"
   ]
  },
  {
   "cell_type": "code",
   "execution_count": null,
   "metadata": {},
   "outputs": [],
   "source": [
    "# 게시글 전처리함수 적용\n",
    "df['pre_content'] = df['content_text'].apply(lambda s: text_preprocessor(s))"
   ]
  },
  {
   "cell_type": "code",
   "execution_count": null,
   "metadata": {},
   "outputs": [],
   "source": [
    "# 게시글 대문자화(브랜드명 추출할 때 사용)\n",
    "df['pre_content'] = df.loc[:, 'pre_content'].apply(lambda x: x.upper())\n",
    "# 해시태그 대문자화\n",
    "df['#word'] = df.loc[:,'#word'].apply(lambda x : str(x).upper())"
   ]
  },
  {
   "cell_type": "code",
   "execution_count": null,
   "metadata": {},
   "outputs": [],
   "source": [
    "# 댓글 전처리함수 적용\n",
    "df['pre_reply'] = df['reply'].apply(lambda s: text_preprocessor(s))\n",
    "# 전처리된 'reply' 대문자화\n",
    "df['pre_reply'] = df.loc[:, 'pre_reply'].apply(lambda x: x.upper())"
   ]
  },
  {
   "cell_type": "markdown",
   "metadata": {},
   "source": [
    "### 컬럼 추가"
   ]
  },
  {
   "cell_type": "markdown",
   "metadata": {},
   "source": [
    "게시글 글자수 컬럼 추가"
   ]
  },
  {
   "cell_type": "code",
   "execution_count": null,
   "metadata": {},
   "outputs": [],
   "source": [
    "# 게시물 글자수 컬럼 추가 : content_text_len\n",
    "def len_text(t):\n",
    "    try:\n",
    "        len_txt = len(t)\n",
    "    except:\n",
    "        len_txt = 0\n",
    "    return len_txt\n",
    "df['content_text_len'] = df['content_text'].apply(len_text)"
   ]
  },
  {
   "cell_type": "markdown",
   "metadata": {},
   "source": [
    "인플루언서별 정보 컬럼 추가\n",
    "- 광고글/비광고글 수\n",
    "- 전체 게시글 좋아요/댓글 평균\n",
    "- 광고글/비광고글 좋아요/댓글 평균"
   ]
  },
  {
   "cell_type": "code",
   "execution_count": null,
   "metadata": {},
   "outputs": [],
   "source": [
    "# 광고글 수 : promo_content_num\n",
    "df['promo_content_num'] = 0\n",
    "for id in df['name'].unique():\n",
    "    df.loc[df['name'] == id, 'promo_content_num'] = len(df[(df['name']==id) & (df['promotion']==1)]['content_text'].unique())\n",
    "# 비광고글 수 : nopromo_content_num\n",
    "df['nopromo_content_num'] = df['content_num'] - df['promo_content_num']"
   ]
  },
  {
   "cell_type": "code",
   "execution_count": null,
   "metadata": {},
   "outputs": [],
   "source": [
    "# 인플루언서별 전체 게시글 좋아요/댓글 수 평균 : all_con_like_mean, all_con_rp_mean\n",
    "df_name_mean = df.groupby(['name']).agg({'content_like':'mean', 'reply_tot':'mean'})\n",
    "df_name_mean.rename(columns={'content_like':'all_con_like_mean', 'reply_tot':'all_con_rp_mean'}, inplace=True)\n",
    "df = pd.merge(df, df_name_mean, how='inner', on='name')"
   ]
  },
  {
   "cell_type": "code",
   "execution_count": null,
   "metadata": {},
   "outputs": [],
   "source": [
    "# 광고/비광고글 좋아요/댓글 평균 추가 : promo_con_like_mean, promo_con_rp_mean, nopromo_con_like_mean, nopromo_con_rp_mean\n",
    "promo_mean = df[df['promotion']==1].groupby(['name']).agg({'content_like':'mean', 'reply_tot':'mean'})\n",
    "promo_mean.rename(columns={'content_like':'promo_con_like_mean', 'reply_tot':'promo_con_rp_mean'}, inplace=True)\n",
    "nopromo_mean = df[df['promotion']==0].groupby(['name']).agg({'content_like':'mean', 'reply_tot':'mean'})\n",
    "nopromo_mean.rename(columns={'content_like':'nopromo_con_like_mean', 'reply_tot':'nopromo_con_rp_mean'}, inplace = True)\n",
    "df = pd.merge(df, promo_mean, how='inner', on='name')\n",
    "df = pd.merge(df, nopromo_mean, how='inner', on='name')"
   ]
  },
  {
   "cell_type": "markdown",
   "metadata": {},
   "source": [
    "댓글 시간 관련 컬럼 추가 (분 단위로 변환)\n",
    "- 댓글 반응시간\n",
    "- 댓글 최소 반응시간\n",
    "- 댓글 반응 기간"
   ]
  },
  {
   "cell_type": "code",
   "execution_count": 75,
   "metadata": {},
   "outputs": [],
   "source": [
    "# 댓글 시간/게시글 시간 : 시간 형식으로 변환\n",
    "df['reply_time'] = df['reply_time'].apply(lambda x:datetime.strptime(x, '%Y-%m-%d %H:%M:%S'))\n",
    "df['content_time'] = df['content_time'].apply(lambda x:datetime.strptime(x, '%Y-%m-%d %H:%M:%S'))"
   ]
  },
  {
   "cell_type": "code",
   "execution_count": null,
   "metadata": {},
   "outputs": [],
   "source": [
    "# 댓글 반응시간 컬럼 추가 : react_time\n",
    "df['react_time'] = df['reply_time'] - df['content_time']"
   ]
  },
  {
   "cell_type": "code",
   "execution_count": null,
   "metadata": {},
   "outputs": [],
   "source": [
    "# 게시글별 댓글 최소 반응시간 : react_time_min\n",
    "df['react_time_min'] = 0\n",
    "cnt_num = 0\n",
    "for w in df['content_time'].unique():\n",
    "    df.loc[df['content_time'] == w, 'react_time_min'] = min(df[df['content_time'] == w]['react_time'])\n",
    "    cnt_num += 1\n",
    "    print(cnt_num, '/', len(df['content_time'].unique()), 'fin---')"
   ]
  },
  {
   "cell_type": "code",
   "execution_count": null,
   "metadata": {},
   "outputs": [],
   "source": [
    "# 게시글별 댓글 반응기간 : react_term\n",
    "df['react_term'] = 0\n",
    "cnt_num = 0\n",
    "for w in df['content_time'].unique():\n",
    "    df.loc[df['content_time'] == w, 'react_term'] = max(df[df['content_time'] == w]['react_time']) - min(df[df['content_time'] == w]['react_time'])\n",
    "    cnt_num += 1\n",
    "    print(cnt_num, '/', len(df['content_time'].unique()), 'fin---')"
   ]
  },
  {
   "cell_type": "code",
   "execution_count": null,
   "metadata": {},
   "outputs": [],
   "source": [
    "# 반응시간 / 반응기간 / 최소 반응시간 분단위로 변경\n",
    "df['react_time'] = df['react_time'].apply(lambda x:x.seconds/60)\n",
    "df['react_term'] = df['react_term'].apply(lambda x:x.seconds/60)\n",
    "df['react_time_min'] = df['react_time_min'].apply(lambda x:x.seconds/60)"
   ]
  },
  {
   "cell_type": "markdown",
   "metadata": {},
   "source": [
    "게시글 업로드 관련 컬럼 추가\n",
    "- 게시글 업로드 요일\n",
    "- 게시글 업로드 시각"
   ]
  },
  {
   "cell_type": "code",
   "execution_count": null,
   "metadata": {},
   "outputs": [],
   "source": [
    "# 게시날짜 요일로 변환해 추가 : con_weekday\n",
    "def week(date_str):\n",
    "    days = ['Mon', 'Tue', 'Wed', 'Thu', 'Fri', 'Sat', 'Sun']\n",
    "    return days[date_str.weekday()]\n",
    "df['con_weekday'] = df['content_time'].apply(lambda x:week(x))"
   ]
  },
  {
   "cell_type": "code",
   "execution_count": null,
   "metadata": {},
   "outputs": [],
   "source": [
    "# 게시시각 컬럼 추가 : con_hour\n",
    "df['con_hour'] = df['content_time'].apply(lambda x:x.hour)"
   ]
  },
  {
   "cell_type": "markdown",
   "metadata": {},
   "source": [
    "언급/해시태그 수 컬럼 추가"
   ]
  },
  {
   "cell_type": "code",
   "execution_count": null,
   "metadata": {},
   "outputs": [],
   "source": [
    "# 언급(@) 수 컬럼 추가 : mention_num\n",
    "df['mention_num'] = df['reply'].apply(lambda x:0 if type(x)!=str else len(re.findall(r'@', x)))"
   ]
  },
  {
   "cell_type": "code",
   "execution_count": null,
   "metadata": {},
   "outputs": [],
   "source": [
    "# 해시태그(#) 수 컬럼 추가 : hashtag_num\n",
    "df['hashtag_num'] = df['content_text'].apply(lambda x:0 if type(x)!=str else len(re.findall(r'#', x)))"
   ]
  },
  {
   "cell_type": "markdown",
   "metadata": {},
   "source": [
    "날짜 가중치 컬럼 추가"
   ]
  },
  {
   "cell_type": "code",
   "execution_count": 73,
   "metadata": {},
   "outputs": [],
   "source": [
    "# 날짜 가중치 추가\n",
    "temp = df['name'].unique()\n",
    "influ = temp.tolist()\n",
    "df['date_weight'] = 0.0"
   ]
  },
  {
   "cell_type": "code",
   "execution_count": null,
   "metadata": {},
   "outputs": [],
   "source": [
    "# 날짜 가중치 컬럼 추가\n",
    "for name in influ:\n",
    "    temp_df = df[df['name'] == name]\n",
    "    max_date = temp_df['content_time'].max()\n",
    "    min_date = temp_df['content_time'].min()\n",
    "    delta1 = max_date - min_date\n",
    "    under = delta1.total_seconds() / 60\n",
    "    \n",
    "    for i in range(0, len(temp_df) - 1):\n",
    "        std_date = temp_df.iloc[i, 6]\n",
    "        delta2 = std_date - min_date\n",
    "        up = delta2.total_seconds() / 60\n",
    "        res = up/under\n",
    "        print(i, \"번째: \", res)\n",
    "\n",
    "        df.loc[temp_df.index[i], 'date_weight'] = res"
   ]
  },
  {
   "cell_type": "markdown",
   "metadata": {},
   "source": [
    "데이터프레임 저장"
   ]
  },
  {
   "cell_type": "code",
   "execution_count": null,
   "metadata": {},
   "outputs": [],
   "source": [
    "df.to_csv(\"C:/study_data/project/insta/중간자료/insta_reply_data.csv\")"
   ]
  }
 ],
 "metadata": {
  "kernelspec": {
   "display_name": "base",
   "language": "python",
   "name": "python3"
  },
  "language_info": {
   "codemirror_mode": {
    "name": "ipython",
    "version": 3
   },
   "file_extension": ".py",
   "mimetype": "text/x-python",
   "name": "python",
   "nbconvert_exporter": "python",
   "pygments_lexer": "ipython3",
   "version": "3.10.9"
  },
  "orig_nbformat": 4
 },
 "nbformat": 4,
 "nbformat_minor": 2
}
