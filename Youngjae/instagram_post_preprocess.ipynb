{
 "cells": [
  {
   "cell_type": "markdown",
   "metadata": {},
   "source": [
    "패키지 로드"
   ]
  },
  {
   "cell_type": "code",
   "execution_count": 1,
   "metadata": {},
   "outputs": [],
   "source": [
    "import numpy as np\n",
    "import pandas as pd\n",
    "import time\n",
    "import re\n",
    "from datetime import datetime, timedelta"
   ]
  },
  {
   "cell_type": "markdown",
   "metadata": {},
   "source": [
    "데이터 불러오기"
   ]
  },
  {
   "cell_type": "code",
   "execution_count": 2,
   "metadata": {},
   "outputs": [],
   "source": [
    "df = pd.read_csv(\"C:/study_data/project/insta/insta_reply_data.csv\", index_col = 0)"
   ]
  },
  {
   "cell_type": "markdown",
   "metadata": {},
   "source": [
    "### 데이터 게시글 기준으로 통합"
   ]
  },
  {
   "cell_type": "code",
   "execution_count": null,
   "metadata": {},
   "outputs": [],
   "source": [
    "# 인플루언서별 전체 게시글 좋아요/댓글 수 평균 : all_con_like_mean, all_con_rp_mean\n",
    "df_name_mean = df.groupby(['name']).agg({'content_like':'mean', 'reply_tot':'mean'})\n",
    "df_name_mean.rename(columns={'content_like':'all_con_like_mean', 'reply_tot':'all_con_rp_mean'}, inplace=True)\n",
    "df = pd.merge(df, df_name_mean, how='inner', on='name')"
   ]
  },
  {
   "cell_type": "code",
   "execution_count": null,
   "metadata": {},
   "outputs": [],
   "source": [
    "# 댓글 언급(@) 수 게시글별 통합\n",
    "men = df.groupby('content_time').agg({'mention_num':'sum', 'hashtag_num':'mean'})\n",
    "df.drop(['mention_num', 'hashtag_num'], axis=1, inplace=True)\n",
    "df = pd.merge(df, men, how='inner', on='content_time')"
   ]
  },
  {
   "cell_type": "code",
   "execution_count": null,
   "metadata": {},
   "outputs": [],
   "source": [
    "# 평균 유효댓글 개수 확인\n",
    "df.groupby(['content_time']).agg({''})\n",
    "key_rp_mean = df_all_promo.groupby(['name']).agg({'key_rp':'mean'})\n",
    "key_rp_mean = key_rp_mean.rename(columns={'key_rp':'key_rp_mean'})\n",
    "df_merged = pd.merge(df_all_promo, key_rp_mean, how='inner', on='name')"
   ]
  },
  {
   "cell_type": "code",
   "execution_count": null,
   "metadata": {},
   "outputs": [],
   "source": [
    "# 유효댓글 비율\n",
    "df_promo2['key_rp_percent'] = df_promo2['key_rp'] / df_promo2['reply_tot']"
   ]
  }
 ],
 "metadata": {
  "kernelspec": {
   "display_name": "base",
   "language": "python",
   "name": "python3"
  },
  "language_info": {
   "codemirror_mode": {
    "name": "ipython",
    "version": 3
   },
   "file_extension": ".py",
   "mimetype": "text/x-python",
   "name": "python",
   "nbconvert_exporter": "python",
   "pygments_lexer": "ipython3",
   "version": "3.10.9"
  },
  "orig_nbformat": 4
 },
 "nbformat": 4,
 "nbformat_minor": 2
}
