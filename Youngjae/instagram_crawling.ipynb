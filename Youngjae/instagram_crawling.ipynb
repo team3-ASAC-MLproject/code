{
 "cells": [
  {
   "cell_type": "markdown",
   "metadata": {},
   "source": [
    "패키지 로드"
   ]
  },
  {
   "cell_type": "code",
   "execution_count": null,
   "metadata": {},
   "outputs": [],
   "source": [
    "import numpy as np\n",
    "import pandas as pd\n",
    "from selenium import webdriver\n",
    "from selenium.webdriver.chrome.service import Service\n",
    "from selenium.webdriver.common.by import By\n",
    "from selenium.webdriver.common.keys import Keys\n",
    "import time\n",
    "import re\n",
    "import requests\n",
    "from bs4 import BeautifulSoup\n",
    "from datetime import datetime, timedelta"
   ]
  },
  {
   "cell_type": "markdown",
   "metadata": {},
   "source": [
    "인플루언서 리스트"
   ]
  },
  {
   "cell_type": "code",
   "execution_count": null,
   "metadata": {},
   "outputs": [],
   "source": [
    "influencer_list = [\n",
    "                    'sea__color', 'h._cherish', 'howaremee', 'wangsubin', 'hyejxong__', 'jxnjuvv',\n",
    "                    '__ryeong', 'mayay____y', '_hwoniii', 'chaevely___', 'seon_uoo', 'na_onion',\n",
    "                    'soena_td', 'b_in__b', 'iam.fleur', 'jesica0908', '81bbuni', 'jaymee4u',\n",
    "                    '__kindacool', 'mona_monanim', 'jxxsng', 'xx.s_on', 'c.ssung', 'holiday__365',\n",
    "                    'yo_ho__12', 'mmars_20', 'd.b_choi', 'i_m_fe', 'foured', 'h___ryan', 'leojmakeup', \n",
    "                    'c_eunheee', 'chiyoon', 'haha_camping', 'sh_nn', 'ggarinam', '_ralphu_',  'h_ryan', \n",
    "                    'oddyune', 'bolm2', 'sun_nyee', 'songyibom', 'nugayoung', 'hwan_s._', 'sacompanysun'\n",
    "                    ]"
   ]
  },
  {
   "cell_type": "markdown",
   "metadata": {},
   "source": [
    "인스타그램 로그인 후 접속"
   ]
  },
  {
   "cell_type": "code",
   "execution_count": null,
   "metadata": {},
   "outputs": [],
   "source": [
    "# 로그인 아이디/비밀번호 입력\n",
    "strId = \n",
    "strPassword ="
   ]
  },
  {
   "cell_type": "code",
   "execution_count": null,
   "metadata": {},
   "outputs": [],
   "source": [
    "# 인스타 로그인\n",
    "# 크롬 드라이버 경로 설정\n",
    "path = r\"C:/Users/NT550-048/Desktop/chromedriver.exe\"\n",
    "s = Service(path)\n",
    "driver = webdriver.Chrome(service=s)\n",
    "driver.get('https://www.instagram.com/')\n",
    "time.sleep(2)\n",
    "id_input = driver.find_elements(By.XPATH, '//*[@id=\"loginForm\"]/div/div[1]/div/label/input')[0]\n",
    "id_input.send_keys(strId)\n",
    "pw_input = driver.find_elements(By.XPATH, '//*[@id=\"loginForm\"]/div/div[2]/div/label/input')[0]\n",
    "pw_input.send_keys(strPassword)\n",
    "driver.find_element(By.XPATH, '//*[@id=\"loginForm\"]/div/div[3]').click()\n",
    "time.sleep(3)"
   ]
  },
  {
   "cell_type": "markdown",
   "metadata": {},
   "source": [
    "크롤링할 인플루언서 리스트로 변환"
   ]
  },
  {
   "cell_type": "code",
   "execution_count": null,
   "metadata": {},
   "outputs": [],
   "source": [
    "# 크롤링할 계정 리스트\n",
    "ids = ['i_m_fe', 'iam.fleur']"
   ]
  },
  {
   "cell_type": "markdown",
   "metadata": {},
   "source": [
    "크롤링 수행"
   ]
  },
  {
   "cell_type": "code",
   "execution_count": null,
   "metadata": {},
   "outputs": [],
   "source": [
    "# 인플루언서 여러명 크롤링\n",
    "influ = []\n",
    "for id in ids:\n",
    "    driver.get(f'https://www.instagram.com/{id}') # 인플루언서 인스타 접속\n",
    "    time.sleep(5)\n",
    "    # 인플루언서 기본 정보 수집\n",
    "    name = driver.find_element(By.XPATH, '/html/body/div[2]/div/div/div[2]/div/div/div/div[1]/div[1]/div[2]/div[2]/section/main/div/header/section/div[1]/a/h2').text # 계정 이름\n",
    "    intro = driver.find_element(By.XPATH, '/html/body/div[2]/div/div/div[2]/div/div/div/div[1]/div[1]/div[2]/div[2]/section/main/div/header/section/div[3]').text # 소개\n",
    "    content_num = int(driver.find_element(By.XPATH, '/html/body/div[2]/div/div/div[2]/div/div/div/div[1]/div[1]/div[2]/div[2]/section/main/div/header/section/ul/li[1]/span').text) # 게시글 수\n",
    "    followers = int(float(driver.find_element(By.XPATH, '/html/body/div[2]/div/div/div[2]/div/div/div/div[1]/div[1]/div[2]/div[2]/section/main/div/header/section/ul/li[2]/a/span').text.split('만')[0])*10000) # 팔로워 수\n",
    "    following = int(driver.find_element(By.XPATH, '/html/body/div[2]/div/div/div[2]/div/div/div/div[1]/div[1]/div[2]/div[2]/section/main/div/header/section/ul/li[3]/a/span').text) # 팔로잉 수\n",
    "    # 첫 게시물 클릭\n",
    "    driver.find_element(By.CLASS_NAME, '_aagu').click()\n",
    "    time.sleep(3)\n",
    "    # 게시물 내용 (없는 경우 None)\n",
    "    for n in range(1, content_num + 1):\n",
    "        try:\n",
    "            content_text = driver.find_element(By.XPATH, '/html/body/div[2]/div/div/div[3]/div/div/div[1]/div/div[3]/div/div/div/div/div[2]/div/article/div/div[2]/div/div/div[2]/div[1]/ul/div/li/div/div/div[2]/div[1]/h1').text\n",
    "        except:\n",
    "            content_text = 'None'\n",
    "        # 게시글 시각\n",
    "        content_time = driver.find_element(By.XPATH, '/html/body/div[2]/div/div/div[3]/div/div/div[1]/div/div[3]/div/div/div/div/div[2]/div/article/div/div[2]/div/div/div[2]/div[2]/div/div/a/span/time').get_attribute('datetime')\n",
    "        content_time = datetime.strptime(content_time, '%Y-%m-%dT%H:%M:%S.000Z')\n",
    "        # 게시물 좋아요 수 (여러명으로 표기시 -1)           \n",
    "        try:\n",
    "            content_like = re.findall(r'\\d+', driver.find_element(By.XPATH, '/html/body/div[2]/div/div/div[3]/div/div/div[1]/div/div[3]/div/div/div/div/div[2]/div/article/div/div[2]/div/div/div[2]/section[2]/div/div/span/a[2]/span').text)\n",
    "        except:\n",
    "            try:\n",
    "                content_like = re.findall(r'\\d+', driver.find_element(By.XPATH, '/html/body/div[2]/div/div/div[3]/div/div/div[1]/div/div[3]/div/div/div/div/div[2]/div/article/div/div[2]/div/div/div[2]/section[2]/div/div/span/a/span').text)\n",
    "            except:\n",
    "                content_like = -1\n",
    "        if content_like == []:\n",
    "            content_like = -1\n",
    "        elif content_like != -1:\n",
    "            if len(content_like)==2:\n",
    "                content_like = int(float(content_like[0] + '.' + content_like[1]) * 10000)\n",
    "            else:\n",
    "                content_like = int(content_like[0])\n",
    "        # 게시물 사진 수 (0=릴스)\n",
    "        try:\n",
    "            num_photo = len(driver.find_element(By.XPATH, '/html/body/div[2]/div/div/div[3]/div/div/div[1]/div/div[3]/div/div/div/div/div[2]/div/article/div/div[1]/div/div[2]').find_elements(By.CLASS_NAME, '_acnb'))\n",
    "        except:\n",
    "            num_photo = 0\n",
    "        # 댓글 더보기 없을 때까지 클릭\n",
    "        btn = True\n",
    "        while btn == True:\n",
    "            try:\n",
    "                driver.find_element(By.XPATH, '/html/body/div[2]/div/div/div[3]/div/div/div[1]/div/div[3]/div/div/div/div/div[2]/div/article/div/div[2]/div/div/div[2]/div[1]/ul/li/div/button').click()\n",
    "                time.sleep(1)\n",
    "            except:\n",
    "                btn = False\n",
    "        # 댓글 정보 수집\n",
    "        try:\n",
    "            # 댓글 수\n",
    "            reply_box = driver.find_element(By.XPATH, '/html/body/div[2]/div/div/div[3]/div/div/div[1]/div/div[3]/div/div/div/div/div[2]/div/article/div/div[2]/div/div/div[2]/div[1]/ul')\n",
    "            reply_tot = len(reply_box.find_elements(By.CLASS_NAME, '_a9ym'))\n",
    "            for num_reply in range(1, reply_tot + 1):\n",
    "                # 댓글 내용\n",
    "                reply = driver.find_element(By.XPATH, f'/html/body/div[2]/div/div/div[3]/div/div/div[1]/div/div[3]/div/div/div/div/div[2]/div/article/div/div[2]/div/div/div[2]/div[1]/ul/ul[{num_reply}]/div/li/div/div/div[2]/div[1]/span').text\n",
    "                # 댓글 시각\n",
    "                reply_time = driver.find_element(By.XPATH, f'/html/body/div[2]/div/div/div[3]/div/div/div[1]/div/div[3]/div/div/div/div/div[2]/div/article/div/div[2]/div/div/div[2]/div[1]/ul/ul[{num_reply}]/div/li/div/div/div[2]/div[2]/span/a/time').get_attribute('datetime')\n",
    "                reply_time = datetime.strptime(reply_time, '%Y-%m-%dT%H:%M:%S.000Z')\n",
    "                # 댓글 좋아요 수 (없으면 0)\n",
    "                try:\n",
    "                    reply_like = int(re.findall(r'\\d+', driver.find_element(By.XPATH, f'/html/body/div[2]/div/div/div[3]/div/div/div[1]/div/div[3]/div/div/div/div/div[2]/div/article/div/div[2]/div/div/div[2]/div[1]/ul/ul[{num_reply}]/div/li/div/div/div[2]/div[2]/span/button[1]/span').text)[0])\n",
    "                except:\n",
    "                    reply_like = 0\n",
    "                influ.append([name, intro, content_num, followers, following, content_text, content_time, num_photo, content_like, reply_tot, reply, reply_time, reply_like])\n",
    "        except:pass\n",
    "        time.sleep(3)\n",
    "        # 다음 게시글 없을 때까지 클릭\n",
    "        if n == 1:\n",
    "            driver.find_element(By.XPATH, '/html/body/div[2]/div/div/div[3]/div/div/div[1]/div/div[3]/div/div/div/div/div[1]/div/div/div/button').click()\n",
    "        else:\n",
    "            try:\n",
    "                driver.find_element(By.XPATH, '/html/body/div[2]/div/div/div[3]/div/div/div[1]/div/div[3]/div/div/div/div/div[1]/div/div/div[2]/button').click()\n",
    "                time.sleep(3)\n",
    "            except:\n",
    "                break\n",
    "influ_df = pd.DataFrame(influ, columns=['name', 'intro', 'content_num', 'followers', 'following', 'content_text', 'content_time', 'num_photo', 'content_like', 'reply_tot', 'reply', 'reply_time', 'reply_like'])"
   ]
  }
 ],
 "metadata": {
  "language_info": {
   "name": "python"
  },
  "orig_nbformat": 4
 },
 "nbformat": 4,
 "nbformat_minor": 2
}
